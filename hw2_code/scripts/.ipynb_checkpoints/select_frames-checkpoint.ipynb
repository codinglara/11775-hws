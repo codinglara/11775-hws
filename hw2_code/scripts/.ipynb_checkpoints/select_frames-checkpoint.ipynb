{
 "cells": [
  {
   "cell_type": "code",
   "execution_count": 9,
   "metadata": {},
   "outputs": [],
   "source": [
    "#!/bin/python\n",
    "# Randomly select \n",
    "\n",
    "import numpy\n",
    "import os\n",
    "import sys"
   ]
  },
  {
   "cell_type": "code",
   "execution_count": 10,
   "metadata": {},
   "outputs": [
    {
     "name": "stdout",
     "output_type": "stream",
     "text": [
      "../surf/HVC1012.surf\n",
      "../surf/HVC1062.surf\n",
      "../surf/HVC1068.surf\n",
      "../surf/HVC1073.surf\n",
      "../surf/HVC1075.surf\n",
      "../surf/HVC1077.surf\n",
      "../surf/HVC1078.surf\n",
      "../surf/HVC1084.surf\n",
      "../surf/HVC1085.surf\n",
      "../surf/HVC1087.surf\n",
      "../surf/HVC1099.surf\n",
      "../surf/HVC1103.surf\n",
      "../surf/HVC1109.surf\n",
      "../surf/HVC1110.surf\n",
      "../surf/HVC1111.surf\n",
      "../surf/HVC1113.surf\n",
      "../surf/HVC1114.surf\n",
      "../surf/HVC1145.surf\n",
      "../surf/HVC1146.surf\n",
      "../surf/HVC1147.surf\n",
      "../surf/HVC1148.surf\n",
      "../surf/HVC1157.surf\n",
      "../surf/HVC1214.surf\n",
      "../surf/HVC1215.surf\n",
      "../surf/HVC1219.surf\n",
      "../surf/HVC1221.surf\n",
      "../surf/HVC1222.surf\n",
      "../surf/HVC1224.surf\n",
      "../surf/HVC1227.surf\n",
      "../surf/HVC1235.surf\n"
     ]
    },
    {
     "ename": "KeyboardInterrupt",
     "evalue": "",
     "output_type": "error",
     "traceback": [
      "\u001b[0;31m---------------------------------------------------------------------------\u001b[0m",
      "\u001b[0;31mKeyboardInterrupt\u001b[0m                         Traceback (most recent call last)",
      "\u001b[0;32m<ipython-input-10-2f48be6b6611>\u001b[0m in \u001b[0;36m<module>\u001b[0;34m\u001b[0m\n\u001b[1;32m     24\u001b[0m         \u001b[0mline\u001b[0m \u001b[0;34m=\u001b[0m \u001b[0mstr\u001b[0m\u001b[0;34m(\u001b[0m\u001b[0marray\u001b[0m\u001b[0;34m[\u001b[0m\u001b[0mn\u001b[0m\u001b[0;34m]\u001b[0m\u001b[0;34m[\u001b[0m\u001b[0;36m0\u001b[0m\u001b[0;34m]\u001b[0m\u001b[0;34m)\u001b[0m\u001b[0;34m\u001b[0m\u001b[0;34m\u001b[0m\u001b[0m\n\u001b[1;32m     25\u001b[0m         \u001b[0;32mfor\u001b[0m \u001b[0mm\u001b[0m \u001b[0;32min\u001b[0m \u001b[0mrange\u001b[0m\u001b[0;34m(\u001b[0m\u001b[0;36m1\u001b[0m\u001b[0;34m,\u001b[0m \u001b[0mfeat_dim\u001b[0m\u001b[0;34m)\u001b[0m\u001b[0;34m:\u001b[0m\u001b[0;34m\u001b[0m\u001b[0;34m\u001b[0m\u001b[0m\n\u001b[0;32m---> 26\u001b[0;31m             \u001b[0mline\u001b[0m \u001b[0;34m+=\u001b[0m \u001b[0;34m','\u001b[0m \u001b[0;34m+\u001b[0m \u001b[0mstr\u001b[0m\u001b[0;34m(\u001b[0m\u001b[0marray\u001b[0m\u001b[0;34m[\u001b[0m\u001b[0mn\u001b[0m\u001b[0;34m]\u001b[0m\u001b[0;34m[\u001b[0m\u001b[0mm\u001b[0m\u001b[0;34m]\u001b[0m\u001b[0;34m)\u001b[0m\u001b[0;34m\u001b[0m\u001b[0;34m\u001b[0m\u001b[0m\n\u001b[0m\u001b[1;32m     27\u001b[0m         \u001b[0mfwrite\u001b[0m\u001b[0;34m.\u001b[0m\u001b[0mwrite\u001b[0m\u001b[0;34m(\u001b[0m\u001b[0mline\u001b[0m \u001b[0;34m+\u001b[0m \u001b[0;34m'\\n'\u001b[0m\u001b[0;34m)\u001b[0m\u001b[0;34m\u001b[0m\u001b[0;34m\u001b[0m\u001b[0m\n\u001b[1;32m     28\u001b[0m \u001b[0mfwrite\u001b[0m\u001b[0;34m.\u001b[0m\u001b[0mclose\u001b[0m\u001b[0;34m(\u001b[0m\u001b[0;34m)\u001b[0m\u001b[0;34m\u001b[0m\u001b[0;34m\u001b[0m\u001b[0m\n",
      "\u001b[0;31mKeyboardInterrupt\u001b[0m: "
     ]
    }
   ],
   "source": [
    "file_list = \"../list/train.video\"\n",
    "ratio = 0.1\n",
    "output_file = \"select1.surf.csv\"\n",
    "\n",
    "fread = open(file_list,\"r\")\n",
    "fwrite = open(output_file,\"w\")\n",
    "\n",
    "# random selection is done by randomizing the rows of the whole matrix, and then selecting the first \n",
    "# num_of_frame * ratio rows\n",
    "\n",
    "numpy.random.seed(18877)\n",
    "\n",
    "for line in fread.readlines():\n",
    "    surf_path = \"../surf/\" + line.replace('\\n','') + \".surf\"\n",
    "    if os.path.exists(surf_path) == False:\n",
    "        continue\n",
    "    print(surf_path)\n",
    "    array = numpy.genfromtxt(surf_path, delimiter=\",\")\n",
    "    numpy.random.shuffle(array)\n",
    "    select_size = int(array.shape[0] * ratio)\n",
    "    feat_dim = array.shape[1]\n",
    "\n",
    "    for n in range(select_size):\n",
    "        line = str(array[n][0])\n",
    "        for m in range(1, feat_dim):\n",
    "            line += ',' + str(array[n][m])\n",
    "        fwrite.write(line + '\\n')\n",
    "fwrite.close()"
   ]
  }
 ],
 "metadata": {
  "kernelspec": {
   "display_name": "Python 3",
   "language": "python",
   "name": "python3"
  },
  "language_info": {
   "codemirror_mode": {
    "name": "ipython",
    "version": 3
   },
   "file_extension": ".py",
   "mimetype": "text/x-python",
   "name": "python",
   "nbconvert_exporter": "python",
   "pygments_lexer": "ipython3",
   "version": "3.6.7"
  }
 },
 "nbformat": 4,
 "nbformat_minor": 2
}
