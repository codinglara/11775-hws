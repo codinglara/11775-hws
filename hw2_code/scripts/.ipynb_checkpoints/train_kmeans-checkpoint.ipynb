{
 "cells": [
  {
   "cell_type": "code",
   "execution_count": null,
   "metadata": {},
   "outputs": [],
   "source": [
    "#!/bin/python\n",
    "\n",
    "import numpy as np\n",
    "import pandas as pd\n",
    "import os\n",
    "from sklearn.cluster.k_means_ import KMeans\n",
    "import pickle\n",
    "import sys\n",
    "\n",
    "mfcc_csv_file = '../select.surf.csv'\n",
    "output_file = '../kmeans.100.model'\n",
    "cluster_num = 100\n",
    "\n",
    "df = pd.read_csv(mfcc_csv_file, header=None, delimiter=',')\n",
    "\n",
    "kmeans_model = KMeans(n_clusters=cluster_num, verbose=1).fit(df)\n",
    "print(\"K-means trained successfully!\")\n",
    "\n",
    "pickle.dump(kmeans_model, open(output_file, 'wb'))\n",
    "print(\"Saved successfully! Check!\")"
   ]
  }
 ],
 "metadata": {
  "kernelspec": {
   "display_name": "Python 3",
   "language": "python",
   "name": "python3"
  },
  "language_info": {
   "codemirror_mode": {
    "name": "ipython",
    "version": 3
   },
   "file_extension": ".py",
   "mimetype": "text/x-python",
   "name": "python",
   "nbconvert_exporter": "python",
   "pygments_lexer": "ipython3",
   "version": "3.6.7"
  }
 },
 "nbformat": 4,
 "nbformat_minor": 2
}
