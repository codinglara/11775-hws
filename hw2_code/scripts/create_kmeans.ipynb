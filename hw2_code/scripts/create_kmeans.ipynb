{
 "cells": [
  {
   "cell_type": "code",
   "execution_count": null,
   "metadata": {},
   "outputs": [],
   "source": [
    "#!/bin/python \n",
    "\n",
    "import numpy as np\n",
    "import pandas as pd\n",
    "import os\n",
    "from sklearn.cluster.k_means_ import KMeans\n",
    "import pickle\n",
    "import sys\n",
    "import scipy\n",
    "from pathlib import Path"
   ]
  },
  {
   "cell_type": "code",
   "execution_count": null,
   "metadata": {},
   "outputs": [],
   "source": [
    "pickle_file = \"../kmeans.50.model\"\n",
    "\n",
    "fileObject = open(pickle_file,'rb')\n",
    "\n",
    "kmodel = pickle.load(fileObject)"
   ]
  },
  {
   "cell_type": "code",
   "execution_count": null,
   "metadata": {},
   "outputs": [],
   "source": [
    "k_centers = kmodel.cluster_centers_\n",
    "\n",
    "k_labels = kmodel.labels_"
   ]
  },
  {
   "cell_type": "code",
   "execution_count": null,
   "metadata": {},
   "outputs": [],
   "source": [
    "column_labels = []\n",
    "final_df = []\n",
    "\n",
    "for i in range(50):\n",
    "    column_labels.append(\"C\" + str(i))\n",
    "\n",
    "column_labels.append(\"target\")\n",
    "\n",
    "#final_df.append(column_labels)"
   ]
  },
  {
   "cell_type": "code",
   "execution_count": null,
   "metadata": {},
   "outputs": [],
   "source": [
    "list_path = \"../../all_trn.lst\"\n",
    "\n",
    "c_val = 0\n",
    "\n",
    "with open(list_path) as f:\n",
    "    for line in f:\n",
    "        t = line.split()\n",
    "\n",
    "        open_path = \"../mfcc/\" + str(t[0]) + \".mfcc.csv\"\n",
    "\n",
    "        if(Path(open_path).is_file()):\n",
    "            # Read CSV\n",
    "            df = pd.read_csv(open_path, header=None, delimiter=';')\n",
    "\n",
    "            # Array to store histogram of MFCCs for all the windows in a video\n",
    "            a = np.zeros(50)\n",
    "\n",
    "            for row_index in range(len(df)):\n",
    "\n",
    "                # For one particular MFCC feature vector\n",
    "                temp = df.iloc[[row_index]]\n",
    "\n",
    "                min_label = 0\n",
    "                min_dist = scipy.spatial.distance.euclidean(temp, k_centers[0])\n",
    "\n",
    "                for i in range(len(k_centers)):\n",
    "                    dist = scipy.spatial.distance.euclidean(temp, k_centers[i])\n",
    "\n",
    "                    if(dist < min_dist):\n",
    "                        min_dist = dist\n",
    "                        min_label = i\n",
    "\n",
    "                a[min_label] += 1.0\n",
    "\n",
    "            a = a/a.sum()\n",
    "\n",
    "            a = list(a)\n",
    "            a.append(t[1])\n",
    "\n",
    "        print(c_val,t[0], t[1], \"done\")\n",
    "        c_val+=1\n",
    "\n",
    "final_df = pd.DataFrame(final_df, columns=column_labels)\n",
    "\n",
    "save_path = \"../a_file.csv\"\n",
    "\n",
    "final_df.to_csv(path_or_buf=save_path)\n",
    "\n",
    "print(final_df.head())\n"
   ]
  }
 ],
 "metadata": {
  "kernelspec": {
   "display_name": "Python 3",
   "language": "python",
   "name": "python3"
  },
  "language_info": {
   "codemirror_mode": {
    "name": "ipython",
    "version": 3
   },
   "file_extension": ".py",
   "mimetype": "text/x-python",
   "name": "python",
   "nbconvert_exporter": "python",
   "pygments_lexer": "ipython3",
   "version": "3.6.7"
  }
 },
 "nbformat": 4,
 "nbformat_minor": 2
}
