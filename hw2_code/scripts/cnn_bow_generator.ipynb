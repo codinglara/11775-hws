{
 "cells": [
  {
   "cell_type": "code",
   "execution_count": 8,
   "metadata": {},
   "outputs": [],
   "source": [
    "#!/bin/python\n",
    "\n",
    "import numpy as np\n",
    "import pandas as pd\n",
    "import os\n",
    "import pickle\n",
    "import sys\n",
    "import scipy\n",
    "from pathlib import Path\n",
    "from collections import Counter\n",
    "import random\n",
    "import copy\n",
    "\n",
    "trn_list_path = \"../../all_trn.lst\"\n",
    "val_list_path = \"../../all_val.lst\"\n",
    "test_list_path = \"../../all_test_fake.lst\"\n",
    "\n",
    "trn_save_path = \"../cnn_bow/cnn_trn.csv\"\n",
    "val_save_path = \"../cnn_bow/cnn_val.csv\"\n",
    "test_save_path = \"../cnn_bow/cnn_test.csv\""
   ]
  },
  {
   "cell_type": "code",
   "execution_count": 9,
   "metadata": {},
   "outputs": [],
   "source": [
    "def create_cnn_bow(open_path, save_path):\n",
    "    file_names = []\n",
    "    target_vals = []\n",
    "\n",
    "    with open(open_path) as f:\n",
    "        video_list = f.readlines()\n",
    "\n",
    "    # Initialize first row of feature list\n",
    "    feature_list = np.zeros([1,512])\n",
    "\n",
    "    for line in video_list:\n",
    "        vid = line.strip(\"\\n\")\n",
    "\n",
    "        name = vid.split(\" \")[0]\n",
    "        val = vid.split(\" \")[1]\n",
    "\n",
    "        file_names.append(name)\n",
    "        target_vals.append(val)\n",
    "\n",
    "        df = pd.read_csv(\"../cnn/\" + name + \".cnn\")\n",
    "\n",
    "        mean_row = df.mean(axis = 0)\n",
    "        \n",
    "        #mean_row = df.median(axis = 0)\n",
    "\n",
    "        mean_row = np.array([mean_row])\n",
    "\n",
    "        feature_list = np.concatenate((feature_list, mean_row), axis=0)\n",
    "\n",
    "    # Flatten the array of 2D matrices into an array of arrays\n",
    "    feature_list_flat = feature_list.flatten()\n",
    "\n",
    "    # Delete the first dummy row added\n",
    "    feature_list = np.delete(feature_list, (0), axis=0)\n",
    "\n",
    "    feature_list.shape\n",
    "    \n",
    "    column_names = []\n",
    "\n",
    "    for i in range(512):\n",
    "        column_names.append(\"C\" + str(i))\n",
    "\n",
    "    use_df = pd.DataFrame(feature_list,index=None, columns=column_names)\n",
    "\n",
    "    file_names_df = pd.DataFrame(file_names,index=None, columns=['name'])\n",
    "\n",
    "    target_vals_df = pd.DataFrame(target_vals, index=None, columns=['target'])\n",
    "\n",
    "    frames = [file_names_df, use_df, target_vals_df]\n",
    "\n",
    "    result = pd.concat(frames, sort=False, axis=1)\n",
    "\n",
    "    result.to_csv(path_or_buf=save_path)\n",
    "\n",
    "    print(\"[INFO] Completed job \", save_path)"
   ]
  },
  {
   "cell_type": "code",
   "execution_count": 10,
   "metadata": {},
   "outputs": [
    {
     "name": "stdout",
     "output_type": "stream",
     "text": [
      "[INFO] Completed job  ../cnn_bow/cnn_trn.csv\n",
      "[INFO] Completed job  ../cnn_bow/cnn_test.csv\n",
      "[INFO] Completed job  ../cnn_bow/cnn_val.csv\n"
     ]
    }
   ],
   "source": [
    "create_cnn_bow(trn_list_path, trn_save_path)\n",
    "create_cnn_bow(test_list_path, test_save_path)\n",
    "create_cnn_bow(val_list_path, val_save_path)"
   ]
  }
 ],
 "metadata": {
  "kernelspec": {
   "display_name": "Python 3",
   "language": "python",
   "name": "python3"
  },
  "language_info": {
   "codemirror_mode": {
    "name": "ipython",
    "version": 3
   },
   "file_extension": ".py",
   "mimetype": "text/x-python",
   "name": "python",
   "nbconvert_exporter": "python",
   "pygments_lexer": "ipython3",
   "version": "3.6.7"
  }
 },
 "nbformat": 4,
 "nbformat_minor": 2
}
